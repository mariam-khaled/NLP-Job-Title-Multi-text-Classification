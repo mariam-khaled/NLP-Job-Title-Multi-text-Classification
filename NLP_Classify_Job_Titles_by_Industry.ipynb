{
 "cells": [
  {
   "cell_type": "code",
   "execution_count": 533,
   "id": "11a9aadc",
   "metadata": {},
   "outputs": [],
   "source": [
    "import pandas as pd\n",
    "pd.options.mode.chained_assignment = None \n",
    "import numpy as np\n",
    "import matplotlib.pyplot as plt\n",
    "\n",
    "from gensim.utils import simple_preprocess\n",
    "from gensim.parsing.preprocessing import STOPWORDS\n",
    "import re\n",
    "\n",
    "from imblearn.under_sampling import RandomUnderSampler\n",
    "from imblearn.over_sampling import SMOTE\n",
    "\n",
    "from sklearn.model_selection import train_test_split, KFold, cross_val_score\n",
    "from sklearn.utils.class_weight import compute_sample_weight\n",
    "from sklearn.feature_extraction.text import CountVectorizer, TfidfVectorizer, TfidfTransformer\n",
    "from sklearn.pipeline import Pipeline\n",
    "from sklearn.naive_bayes import MultinomialNB\n",
    "from sklearn.linear_model import SGDClassifier, LogisticRegression\n",
    "from sklearn.svm import SVC\n",
    "from sklearn.ensemble import RandomForestClassifier, BaggingClassifier\n",
    "from sklearn.neighbors import KNeighborsClassifier\n",
    "from sklearn.metrics import accuracy_score, confusion_matrix,  plot_confusion_matrix, classification_report"
   ]
  },
  {
   "cell_type": "code",
   "execution_count": 534,
   "id": "79b44fa8",
   "metadata": {},
   "outputs": [],
   "source": [
    "DATASET_PATH = 'Job titles and industries.csv'"
   ]
  },
  {
   "cell_type": "markdown",
   "id": "cd7c5482",
   "metadata": {},
   "source": [
    "## EDA"
   ]
  },
  {
   "cell_type": "code",
   "execution_count": 535,
   "id": "1c274727",
   "metadata": {},
   "outputs": [],
   "source": [
    "df = pd.read_csv(DATASET_PATH)"
   ]
  },
  {
   "cell_type": "markdown",
   "id": "79fed709",
   "metadata": {},
   "source": [
    "### Data shape"
   ]
  },
  {
   "cell_type": "code",
   "execution_count": 536,
   "id": "367a7f5c",
   "metadata": {},
   "outputs": [
    {
     "name": "stdout",
     "output_type": "stream",
     "text": [
      "Number of instances, features (8586, 2)\n"
     ]
    }
   ],
   "source": [
    "print('Number of instances, features', df.shape)"
   ]
  },
  {
   "cell_type": "markdown",
   "id": "2cd84052",
   "metadata": {},
   "source": [
    "### Data Peek"
   ]
  },
  {
   "cell_type": "code",
   "execution_count": 537,
   "id": "27d46bd6",
   "metadata": {},
   "outputs": [
    {
     "name": "stdout",
     "output_type": "stream",
     "text": [
      "                                           job title industry\n",
      "0  technical support and helpdesk supervisor - co...       IT\n",
      "1                  senior technical support engineer       IT\n",
      "2                                head of it services       IT\n",
      "3                              js front end engineer       IT\n",
      "4                   network and telephony controller       IT\n"
     ]
    }
   ],
   "source": [
    "print(df.head())"
   ]
  },
  {
   "cell_type": "markdown",
   "id": "2f854ebe",
   "metadata": {},
   "source": [
    "### Data Information"
   ]
  },
  {
   "cell_type": "code",
   "execution_count": 538,
   "id": "561a5f98",
   "metadata": {},
   "outputs": [
    {
     "name": "stdout",
     "output_type": "stream",
     "text": [
      "<class 'pandas.core.frame.DataFrame'>\n",
      "RangeIndex: 8586 entries, 0 to 8585\n",
      "Data columns (total 2 columns):\n",
      " #   Column     Non-Null Count  Dtype \n",
      "---  ------     --------------  ----- \n",
      " 0   job title  8586 non-null   object\n",
      " 1   industry   8586 non-null   object\n",
      "dtypes: object(2)\n",
      "memory usage: 134.3+ KB\n",
      "None\n"
     ]
    }
   ],
   "source": [
    "print(df.info())"
   ]
  },
  {
   "cell_type": "markdown",
   "id": "15a42e99",
   "metadata": {},
   "source": [
    "### Data Description"
   ]
  },
  {
   "cell_type": "code",
   "execution_count": 539,
   "id": "1829dfb9",
   "metadata": {},
   "outputs": [
    {
     "name": "stdout",
     "output_type": "stream",
     "text": [
      "                  job title industry\n",
      "count                  8586     8586\n",
      "unique                 3890        4\n",
      "top     marketing executive       IT\n",
      "freq                     91     4746\n"
     ]
    }
   ],
   "source": [
    "print(df.describe())"
   ]
  },
  {
   "cell_type": "markdown",
   "id": "e4e8b574",
   "metadata": {},
   "source": [
    "### Class Distribution\n"
   ]
  },
  {
   "cell_type": "code",
   "execution_count": 540,
   "id": "b33de4f1",
   "metadata": {},
   "outputs": [
    {
     "name": "stdout",
     "output_type": "stream",
     "text": [
      "industry\n",
      "Accountancy     374\n",
      "Education      1435\n",
      "IT             4746\n",
      "Marketing      2031\n",
      "dtype: int64\n"
     ]
    }
   ],
   "source": [
    "print(df.groupby('industry').size())"
   ]
  },
  {
   "cell_type": "markdown",
   "id": "b5491542",
   "metadata": {},
   "source": [
    "## Data Preparation"
   ]
  },
  {
   "cell_type": "markdown",
   "id": "40e2720d",
   "metadata": {},
   "source": [
    "### Clean Job Titles Text"
   ]
  },
  {
   "cell_type": "code",
   "execution_count": 541,
   "id": "d607446a",
   "metadata": {},
   "outputs": [],
   "source": [
    "def clean_text(txt):\n",
    "    \"\"\"\n",
    "    Tokenize text and remove stopwords.\n",
    "    \n",
    "    Parameters\n",
    "    ----------\n",
    "    txt : str\n",
    "        String to be preprocessed.\n",
    "    \n",
    "    Returns\n",
    "    -------\n",
    "    res\n",
    "        Clean string.\n",
    "    \"\"\"\n",
    "    \n",
    "    res = \"\"\n",
    "    \n",
    "    for token in simple_preprocess(txt):\n",
    "        if token not in STOPWORDS and len(token) >= 2:\n",
    "            res+=token+\" \"\n",
    "            \n",
    "    return res"
   ]
  },
  {
   "cell_type": "code",
   "execution_count": 542,
   "id": "55c65eea",
   "metadata": {},
   "outputs": [],
   "source": [
    "def remove_special_chars(df):\n",
    "    \"\"\"\n",
    "    Remove special characters from job title column.\n",
    "    \n",
    "    Parameters\n",
    "    ----------\n",
    "    df : pandas dataframe\n",
    "        Dataframe to be preprocessed.\n",
    "    \n",
    "    Returns\n",
    "    -------\n",
    "    df\n",
    "        Dataframe without duplicates.\n",
    "    \"\"\"\n",
    "    \n",
    "    clean_jobs = []\n",
    "    \n",
    "    for job in df['job title']:\n",
    "        job = re.sub(\"[^A-Za-z]+\",\" \",job)\n",
    "        clean_jobs.append(job)\n",
    "\n",
    "    df['job title'] = clean_jobs\n",
    "    \n",
    "    return df"
   ]
  },
  {
   "cell_type": "code",
   "execution_count": 543,
   "id": "80b80648",
   "metadata": {},
   "outputs": [],
   "source": [
    "def preprocess_data(df):  \n",
    "    \"\"\"\n",
    "    Preprocess data in a series of steps using pre-defined functions.\n",
    "    \n",
    "    Parameters\n",
    "    ----------\n",
    "    df : pandas dataframe\n",
    "        Dataframe to be preprocessed.\n",
    "    \n",
    "    Returns\n",
    "    -------\n",
    "    df\n",
    "        Preprocessed dataframe.\n",
    "    \"\"\"\n",
    "    df = remove_special_chars(df)\n",
    "    df['job title'] = df['job title'].map(clean_text)\n",
    "    \n",
    "    return df"
   ]
  },
  {
   "cell_type": "markdown",
   "id": "28f37a7f",
   "metadata": {},
   "source": [
    "### Check Preprocessing Output"
   ]
  },
  {
   "cell_type": "code",
   "execution_count": 544,
   "id": "78a785d7",
   "metadata": {},
   "outputs": [
    {
     "name": "stdout",
     "output_type": "stream",
     "text": [
      "<class 'pandas.core.frame.DataFrame'>\n",
      "RangeIndex: 8586 entries, 0 to 8585\n",
      "Data columns (total 2 columns):\n",
      " #   Column     Non-Null Count  Dtype \n",
      "---  ------     --------------  ----- \n",
      " 0   job title  8586 non-null   object\n",
      " 1   industry   8586 non-null   object\n",
      "dtypes: object(2)\n",
      "memory usage: 134.3+ KB\n",
      "None\n",
      "                                           job title industry\n",
      "0  technical support helpdesk supervisor county b...       IT\n",
      "1                 senior technical support engineer        IT\n",
      "2                                     head services        IT\n",
      "3                                   js end engineer        IT\n",
      "4                      network telephony controller        IT\n"
     ]
    }
   ],
   "source": [
    "df = preprocess_data(df)\n",
    "print(df.info())\n",
    "print(df.head())"
   ]
  },
  {
   "cell_type": "markdown",
   "id": "e1bbe1ce",
   "metadata": {},
   "source": [
    "### Resampling to Balance Data"
   ]
  },
  {
   "cell_type": "code",
   "execution_count": 545,
   "id": "6c4acb46",
   "metadata": {},
   "outputs": [
    {
     "data": {
      "text/plain": [
       "\"\\nMarketing = len(df[df['industry'] == 'Marketing'])\\nEducation = len(df[df['industry'] == 'Education'])\\nAccountancy = len(df[df['industry'] == 'Accountancy'])\\nEducation = len(df[df['industry'] == 'Education'])\\n\\n# Majority class indices\\nmajority_class_indicies = df[df['industry'] == 'IT'].index \\n\\nsampling_arr = [Marketing , Education , Accountancy]\\naverage = np.mean(sampling_arr)\\n\\nrandom_majority_indicies = np.random.choice(majority_class_indicies , int(average) , replace = False)\\n\\nMarketing_class_indicies = df[df['industry'] == 'Marketing'].index \\nEducation_class_indicies = df[df['industry'] == 'Education'].index \\nAccountancy_class_indicies = df[df['industry'] == 'Accountancy'].index \\n\\nunder_sample_indicies = np.concatenate([random_majority_indicies , Marketing_class_indicies , Education_class_indicies , Accountancy_class_indicies ])\\nunder_sampling = df.loc[under_sample_indicies]\\n\\ndf = under_sampling\\n\""
      ]
     },
     "execution_count": 545,
     "metadata": {},
     "output_type": "execute_result"
    }
   ],
   "source": [
    "\"\"\"\n",
    "Marketing = len(df[df['industry'] == 'Marketing'])\n",
    "Education = len(df[df['industry'] == 'Education'])\n",
    "Accountancy = len(df[df['industry'] == 'Accountancy'])\n",
    "Education = len(df[df['industry'] == 'Education'])\n",
    "\n",
    "# Majority class indices\n",
    "majority_class_indicies = df[df['industry'] == 'IT'].index \n",
    "\n",
    "sampling_arr = [Marketing , Education , Accountancy]\n",
    "average = np.mean(sampling_arr)\n",
    "\n",
    "random_majority_indicies = np.random.choice(majority_class_indicies , int(average) , replace = False)\n",
    "\n",
    "Marketing_class_indicies = df[df['industry'] == 'Marketing'].index \n",
    "Education_class_indicies = df[df['industry'] == 'Education'].index \n",
    "Accountancy_class_indicies = df[df['industry'] == 'Accountancy'].index \n",
    "\n",
    "under_sample_indicies = np.concatenate([random_majority_indicies , Marketing_class_indicies , Education_class_indicies , Accountancy_class_indicies ])\n",
    "under_sampling = df.loc[under_sample_indicies]\n",
    "\n",
    "df = under_sampling\n",
    "\"\"\""
   ]
  },
  {
   "cell_type": "markdown",
   "id": "bdeb334b",
   "metadata": {},
   "source": [
    "### Splitting Data to Train and Test Sets"
   ]
  },
  {
   "cell_type": "code",
   "execution_count": 546,
   "id": "7606d865",
   "metadata": {},
   "outputs": [],
   "source": [
    "X = df['job title']\n",
    "y = df['industry']"
   ]
  },
  {
   "cell_type": "code",
   "execution_count": 547,
   "id": "a99d6e8f",
   "metadata": {},
   "outputs": [],
   "source": [
    "X_train, X_test, y_train, y_test = train_test_split(X, y, test_size=0.2, random_state = 42)\n",
    "\n",
    "# To overcome imbalance in data\n",
    "weights = compute_sample_weight(\"balanced\", y_train)"
   ]
  },
  {
   "cell_type": "markdown",
   "id": "30f1fe81",
   "metadata": {},
   "source": [
    "## Evaluating Models"
   ]
  },
  {
   "cell_type": "code",
   "execution_count": 548,
   "id": "7c7920ea",
   "metadata": {},
   "outputs": [
    {
     "name": "stdout",
     "output_type": "stream",
     "text": [
      "Logistic Regression: 0.925451 (0.006465)\n",
      "Multinomial Naive Bayse: 0.915404 (0.003727)\n",
      "SVM: 0.934771 (0.007136)\n",
      "SGD Classifier: 0.930548 (0.005727)\n",
      "Random Forest: 0.932732 (0.008603)\n",
      "KNN: 0.911036 (0.013220)\n"
     ]
    }
   ],
   "source": [
    "models = []\n",
    "models.append(('Logistic Regression:', LogisticRegression()))\n",
    "models.append(('Multinomial Naive Bayse:', MultinomialNB()))\n",
    "models.append(('SVM:', SVC()))\n",
    "models.append(('SGD Classifier:', SGDClassifier()))\n",
    "models.append(('Random Forest:', RandomForestClassifier()))\n",
    "models.append(('KNN:', KNeighborsClassifier()))\n",
    "\n",
    "# Features Extraction\n",
    "pipeline = Pipeline([('vect', CountVectorizer()), ('tfidf', TfidfTransformer())])\n",
    "X_train_eval = pipeline.fit_transform(X_train)\n",
    "                    \n",
    "results = []\n",
    "names = []\n",
    "for name, model in models:\n",
    "    kfold = KFold(n_splits=9)\n",
    "    cv_results = cross_val_score(model, X_train_eval, y_train, cv=kfold, scoring='accuracy')\n",
    "    results.append(cv_results)\n",
    "    names.append(name)\n",
    "    msg = \"%s %f (%f)\" % (name, cv_results.mean(), cv_results.std())\n",
    "    print(msg)"
   ]
  },
  {
   "cell_type": "markdown",
   "id": "bd841b81",
   "metadata": {},
   "source": [
    "### Train and Test Best Model (SVC Classifier)"
   ]
  },
  {
   "cell_type": "code",
   "execution_count": 549,
   "id": "0e726253",
   "metadata": {},
   "outputs": [
    {
     "name": "stdout",
     "output_type": "stream",
     "text": [
      "Training score: 0.9509318578916716\n",
      "Testing score: 0.9254947613504074\n"
     ]
    }
   ],
   "source": [
    "# Some hyper-parameter tuning, Train\n",
    "final_model = Pipeline([('vect', CountVectorizer()), ('tfidf', TfidfTransformer()), ('svc', SVC(kernel='linear'))])\n",
    "final_model.fit(X_train, y_train, **{'svc__sample_weight': weights})\n",
    "\n",
    "# Test                       \n",
    "train_result = final_model.predict(X_train)\n",
    "test_result = final_model.predict(X_test)\n",
    "\n",
    "# Evaluate\n",
    "print('Training score:', accuracy_score(y_train, train_result))\n",
    "print('Testing score:', accuracy_score(y_test, test_result))"
   ]
  },
  {
   "cell_type": "markdown",
   "id": "fe75fbc0",
   "metadata": {},
   "source": [
    "### Further Evaluation"
   ]
  },
  {
   "cell_type": "markdown",
   "id": "fc97d57f",
   "metadata": {},
   "source": [
    "### Classification Report"
   ]
  },
  {
   "cell_type": "code",
   "execution_count": 550,
   "id": "c3a521cd",
   "metadata": {},
   "outputs": [
    {
     "name": "stdout",
     "output_type": "stream",
     "text": [
      "              precision    recall  f1-score   support\n",
      "\n",
      " Accountancy       0.81      0.86      0.83        69\n",
      "   Education       0.90      0.90      0.90       309\n",
      "          IT       0.97      0.94      0.96       942\n",
      "   Marketing       0.87      0.91      0.89       398\n",
      "\n",
      "    accuracy                           0.93      1718\n",
      "   macro avg       0.89      0.90      0.89      1718\n",
      "weighted avg       0.93      0.93      0.93      1718\n",
      "\n"
     ]
    }
   ],
   "source": [
    "print(classification_report(y_test, test_result))"
   ]
  },
  {
   "cell_type": "markdown",
   "id": "38d746b7",
   "metadata": {},
   "source": [
    "## Save Final Model for the API"
   ]
  },
  {
   "cell_type": "code",
   "execution_count": 551,
   "id": "42b2a014",
   "metadata": {},
   "outputs": [
    {
     "data": {
      "text/plain": [
       "['model.joblib']"
      ]
     },
     "execution_count": 551,
     "metadata": {},
     "output_type": "execute_result"
    }
   ],
   "source": [
    "from joblib import dump, load\n",
    "dump(final_model, 'model.joblib')"
   ]
  },
  {
   "cell_type": "code",
   "execution_count": null,
   "id": "9b8414ec",
   "metadata": {},
   "outputs": [],
   "source": []
  },
  {
   "cell_type": "code",
   "execution_count": null,
   "id": "d2af3425",
   "metadata": {},
   "outputs": [],
   "source": []
  },
  {
   "cell_type": "code",
   "execution_count": null,
   "id": "83fd6a92",
   "metadata": {},
   "outputs": [],
   "source": []
  },
  {
   "cell_type": "code",
   "execution_count": null,
   "id": "c55e3ad0",
   "metadata": {},
   "outputs": [],
   "source": []
  }
 ],
 "metadata": {
  "kernelspec": {
   "display_name": "Python 3 (ipykernel)",
   "language": "python",
   "name": "python3"
  },
  "language_info": {
   "codemirror_mode": {
    "name": "ipython",
    "version": 3
   },
   "file_extension": ".py",
   "mimetype": "text/x-python",
   "name": "python",
   "nbconvert_exporter": "python",
   "pygments_lexer": "ipython3",
   "version": "3.8.10"
  }
 },
 "nbformat": 4,
 "nbformat_minor": 5
}
