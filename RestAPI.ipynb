{
 "cells": [
  {
   "cell_type": "code",
   "execution_count": 3,
   "id": "66e5cd0e",
   "metadata": {},
   "outputs": [],
   "source": [
    "from flask import Flask,render_template\n",
    "from flask_restful import Api, Resource, reqparse\n",
    "import requests\n",
    "from joblib import dump, load"
   ]
  },
  {
   "cell_type": "code",
   "execution_count": 4,
   "id": "605e9b97",
   "metadata": {},
   "outputs": [],
   "source": [
    "app = Flask(__name__)\n",
    "api = Api(app)"
   ]
  },
  {
   "cell_type": "code",
   "execution_count": 5,
   "id": "74b82a1b",
   "metadata": {},
   "outputs": [],
   "source": [
    "class Model(Resource):\n",
    "\n",
    "    def get(self, job_title):\n",
    "        model = load('model.joblib')\n",
    "        pred_industry = model.predict([job_title])\n",
    "        return pred_industry[0], 200"
   ]
  },
  {
   "cell_type": "code",
   "execution_count": 6,
   "id": "593070ad",
   "metadata": {},
   "outputs": [],
   "source": [
    "# Add route\n",
    "api.add_resource(Model, \"/model/api/<string:job_title>\")"
   ]
  },
  {
   "cell_type": "code",
   "execution_count": null,
   "id": "67037914",
   "metadata": {},
   "outputs": [
    {
     "name": "stdout",
     "output_type": "stream",
     "text": [
      " * Serving Flask app \"__main__\" (lazy loading)\n",
      " * Environment: production\n",
      "\u001b[31m   WARNING: This is a development server. Do not use it in a production deployment.\u001b[0m\n",
      "\u001b[2m   Use a production WSGI server instead.\u001b[0m\n",
      " * Debug mode: off\n"
     ]
    },
    {
     "name": "stderr",
     "output_type": "stream",
     "text": [
      " * Running on http://127.0.0.1:5000/ (Press CTRL+C to quit)\n",
      "127.0.0.1 - - [20/Sep/2021 18:00:33] \"\u001b[33mGET / HTTP/1.1\u001b[0m\" 404 -\n",
      "127.0.0.1 - - [20/Sep/2021 18:00:33] \"\u001b[33mGET /favicon.ico HTTP/1.1\u001b[0m\" 404 -\n",
      "127.0.0.1 - - [20/Sep/2021 18:01:03] \"\u001b[37mGET /model/api/%22IT%20consultant%22 HTTP/1.1\u001b[0m\" 200 -\n",
      "127.0.0.1 - - [20/Sep/2021 18:01:23] \"\u001b[37mGET /model/api/%22supervisor%20in%20marketinG%22 HTTP/1.1\u001b[0m\" 200 -\n",
      "127.0.0.1 - - [20/Sep/2021 19:17:48] \"\u001b[33mGET / HTTP/1.1\u001b[0m\" 404 -\n",
      "127.0.0.1 - - [20/Sep/2021 19:18:18] \"\u001b[37mGET /model/api/%22consultant%20at%20It%22 HTTP/1.1\u001b[0m\" 200 -\n",
      "127.0.0.1 - - [20/Sep/2021 19:18:31] \"\u001b[37mGET /model/api/%22computer%20engineer%22 HTTP/1.1\u001b[0m\" 200 -\n",
      "127.0.0.1 - - [20/Sep/2021 19:18:42] \"\u001b[37mGET /model/api/%22teach%20r%22 HTTP/1.1\u001b[0m\" 200 -\n"
     ]
    }
   ],
   "source": [
    "# Run App\n",
    "app.run()"
   ]
  },
  {
   "cell_type": "code",
   "execution_count": null,
   "id": "e1299caa",
   "metadata": {},
   "outputs": [],
   "source": []
  }
 ],
 "metadata": {
  "kernelspec": {
   "display_name": "Python 3 (ipykernel)",
   "language": "python",
   "name": "python3"
  },
  "language_info": {
   "codemirror_mode": {
    "name": "ipython",
    "version": 3
   },
   "file_extension": ".py",
   "mimetype": "text/x-python",
   "name": "python",
   "nbconvert_exporter": "python",
   "pygments_lexer": "ipython3",
   "version": "3.8.10"
  }
 },
 "nbformat": 4,
 "nbformat_minor": 5
}
